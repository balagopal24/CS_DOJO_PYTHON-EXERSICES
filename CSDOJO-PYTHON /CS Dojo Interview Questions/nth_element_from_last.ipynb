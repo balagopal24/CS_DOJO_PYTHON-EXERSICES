{
 "cells": [
  {
   "cell_type": "code",
   "execution_count": 15,
   "metadata": {},
   "outputs": [],
   "source": [
    "class Node:\n",
    "    def __init__(self,value, child=None):\n",
    "        self.value = value\n",
    "        self.child = child\n",
    "        \n",
    "    def __str__(self):\n",
    "        return str(self.value)\n",
    "    \n",
    "    #Implement your function below:\n",
    "def nth_from_last(head, n):\n",
    "    left=head\n",
    "    right = head\n",
    "    for i in range(n):\n",
    "        if right == None:\n",
    "            return None\n",
    "        right = right.child\n",
    "    while right:\n",
    "        right = right.child\n",
    "        left = left.child\n",
    "    return left\n",
    "    \n",
    "def linked_list_to_string(head):\n",
    "    current = head\n",
    "    str_list = []\n",
    "    while current:\n",
    "        str_list.append(str(current.value))\n",
    "        current = current.child\n",
    "    str_list.append('(None)')\n",
    "    return '-->'.join(str_list)\n",
    "\n",
    "\n",
    "        "
   ]
  },
  {
   "cell_type": "code",
   "execution_count": 16,
   "metadata": {},
   "outputs": [],
   "source": [
    "current = Node(1)\n",
    "for i in range(2, 8):\n",
    "    current = Node(i, current)\n",
    "head = current"
   ]
  },
  {
   "cell_type": "code",
   "execution_count": 21,
   "metadata": {},
   "outputs": [],
   "source": [
    "current2 = Node(4)\n",
    "for i in range(3, 0, -1):\n",
    "    current2 = Node(i, current2)\n",
    "head2 = current2"
   ]
  },
  {
   "cell_type": "code",
   "execution_count": 22,
   "metadata": {},
   "outputs": [
    {
     "name": "stdout",
     "output_type": "stream",
     "text": [
      "1\n"
     ]
    }
   ],
   "source": [
    "print(nth_from_last(head, 1) )"
   ]
  },
  {
   "cell_type": "code",
   "execution_count": 23,
   "metadata": {},
   "outputs": [
    {
     "name": "stdout",
     "output_type": "stream",
     "text": [
      "5\n"
     ]
    }
   ],
   "source": [
    "print(nth_from_last(head, 5) )"
   ]
  },
  {
   "cell_type": "code",
   "execution_count": 24,
   "metadata": {},
   "outputs": [
    {
     "name": "stdout",
     "output_type": "stream",
     "text": [
      "1\n"
     ]
    }
   ],
   "source": [
    "print(nth_from_last(head2, 4))"
   ]
  },
  {
   "cell_type": "code",
   "execution_count": null,
   "metadata": {},
   "outputs": [],
   "source": []
  }
 ],
 "metadata": {
  "kernelspec": {
   "display_name": "Python 3",
   "language": "python",
   "name": "python3"
  },
  "language_info": {
   "codemirror_mode": {
    "name": "ipython",
    "version": 3
   },
   "file_extension": ".py",
   "mimetype": "text/x-python",
   "name": "python",
   "nbconvert_exporter": "python",
   "pygments_lexer": "ipython3",
   "version": "3.7.4"
  }
 },
 "nbformat": 4,
 "nbformat_minor": 2
}
