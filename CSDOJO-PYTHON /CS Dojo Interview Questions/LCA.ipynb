{
 "cells": [
  {
   "cell_type": "code",
   "execution_count": 1,
   "metadata": {},
   "outputs": [],
   "source": [
    "# Use this class to create binary trees.\n",
    "class Node:\n",
    "    def __init__(self, value, left=None, right=None):\n",
    "        self.value = value\n",
    "        self.left = left\n",
    "        self.right = right\n",
    "\n",
    "    def __str__(self):\n",
    "        return str(self.value)\n",
    "\n",
    "    # Overriding the equality operator.\n",
    "    # This will be used for testing your solution.\n",
    "    def __eq__(self, other):\n",
    "        if type(other) is type(self):\n",
    "            return self.value == other.value\n",
    "        return False\n",
    "\n",
    "\n",
    "# Implement your function below.\n",
    "def lca(root, j, k):\n",
    "    path_to_j = path_to_x(root, j)\n",
    "    path_to_k = path_to_x(root, k)\n",
    "\n",
    "    lca_to_return = None\n",
    "    while path_to_j and path_to_k:\n",
    "        j_pop = path_to_j.pop()\n",
    "        k_pop = path_to_k.pop()\n",
    "        if j_pop is k_pop:\n",
    "            lca_to_return = j_pop\n",
    "        else:\n",
    "            break\n",
    "    return lca_to_return\n",
    "\n",
    "\n",
    "def path_to_x(root, x):\n",
    "    if root is None:\n",
    "        return None\n",
    "    if root.value == x:\n",
    "        return [root]\n",
    "    left_path = path_to_x(root.left, x)\n",
    "    if left_path is not None:\n",
    "        left_path.append(root)\n",
    "        return left_path\n",
    "    right_path = path_to_x(root.right, x)\n",
    "    if right_path is not None:\n",
    "        right_path.append(root)\n",
    "        return right_path\n",
    "    return None\n",
    "\n",
    "# A function for creating a tree.\n",
    "# Input:\n",
    "# - mapping: a node-to-node mapping that shows how the tree should be constructed\n",
    "# - head_value: the value that will be used for the head ndoe\n",
    "# Output:\n",
    "# - The head node of the resulting tree\n",
    "def create_tree(mapping, head_value):\n",
    "    head = Node(head_value)\n",
    "    nodes = {head_value: head}\n",
    "    for key, value in mapping.items():\n",
    "        nodes[value[0]] = Node(value[0])\n",
    "        nodes[value[1]] = Node(value[1])\n",
    "    for key, value in mapping.items():\n",
    "        nodes[key].left = nodes[value[0]]\n",
    "        nodes[key].right = nodes[value[1]]\n",
    "    return head\n",
    "\n",
    "\n",
    "# NOTE: The following values will be used for testing your solution.\n",
    "\n",
    "# The mapping we're going to use for constructing a tree.\n",
    "# {0: [1, 2]} means that 0's left child is 1, and its right\n",
    "# child is 2.\n",
    "mapping1 = {0: [1, 2], 1: [3, 4], 2: [5, 6]}\n",
    "head1 = create_tree(mapping1, 0)\n",
    "# This tree is:\n",
    "# head1 = 0\n",
    "#        / \\\n",
    "#       1   2\n",
    "#      /\\   /\\\n",
    "#     3  4 5  6\n",
    "\n",
    "\n",
    "mapping2 = {5: [1, 4], 1: [3, 8], 4: [9, 2], 3: [6, 7]}\n",
    "head2 = create_tree(mapping2, 5)\n",
    "# This tree is:\n",
    "#  head2 = 5\n",
    "#        /   \\\n",
    "#       1     4\n",
    "#      /\\    / \\\n",
    "#     3  8  9  2\n",
    "#    /\\\n",
    "#   6  7\n",
    "\n",
    "\n",
    "# lca(head1, 1, 5) should return 0\n",
    "# lca(head1, 3, 1) should return 1\n",
    "# lca(head1, 1, 4) should return 1\n",
    "# lca(head1, 0, 5) should return 0\n",
    "# lca(head2, 4, 7) should return 5\n",
    "# lca(head2, 3, 3) should return 3\n",
    "# lca(head2, 8, 7) should return 1\n",
    "# lca(head2, 3, 0) should return None (0 does not exist in the tree)\n"
   ]
  },
  {
   "cell_type": "code",
   "execution_count": 2,
   "metadata": {},
   "outputs": [
    {
     "data": {
      "text/plain": [
       "<__main__.Node at 0x103394350>"
      ]
     },
     "execution_count": 2,
     "metadata": {},
     "output_type": "execute_result"
    }
   ],
   "source": [
    "lca(head1, 1, 5)"
   ]
  },
  {
   "cell_type": "code",
   "execution_count": 3,
   "metadata": {},
   "outputs": [
    {
     "data": {
      "text/plain": [
       "<__main__.Node at 0x1033945d0>"
      ]
     },
     "execution_count": 3,
     "metadata": {},
     "output_type": "execute_result"
    }
   ],
   "source": [
    "lca(head1, 3, 1) "
   ]
  },
  {
   "cell_type": "code",
   "execution_count": 4,
   "metadata": {},
   "outputs": [
    {
     "data": {
      "text/plain": [
       "<__main__.Node at 0x103394750>"
      ]
     },
     "execution_count": 4,
     "metadata": {},
     "output_type": "execute_result"
    }
   ],
   "source": [
    "lca(head2, 8, 7)"
   ]
  },
  {
   "cell_type": "code",
   "execution_count": null,
   "metadata": {},
   "outputs": [],
   "source": []
  }
 ],
 "metadata": {
  "kernelspec": {
   "display_name": "Python 3",
   "language": "python",
   "name": "python3"
  },
  "language_info": {
   "codemirror_mode": {
    "name": "ipython",
    "version": 3
   },
   "file_extension": ".py",
   "mimetype": "text/x-python",
   "name": "python",
   "nbconvert_exporter": "python",
   "pygments_lexer": "ipython3",
   "version": "3.7.4"
  }
 },
 "nbformat": 4,
 "nbformat_minor": 2
}
