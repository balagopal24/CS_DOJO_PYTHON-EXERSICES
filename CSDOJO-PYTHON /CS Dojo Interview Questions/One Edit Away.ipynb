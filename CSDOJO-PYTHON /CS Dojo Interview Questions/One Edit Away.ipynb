{
 "cells": [
  {
   "cell_type": "code",
   "execution_count": 3,
   "metadata": {},
   "outputs": [
    {
     "name": "stdout",
     "output_type": "stream",
     "text": [
      "True\n",
      "True\n",
      "True\n",
      "True\n",
      "True\n"
     ]
    },
    {
     "data": {
      "text/plain": [
       "False"
      ]
     },
     "execution_count": 3,
     "metadata": {},
     "output_type": "execute_result"
    }
   ],
   "source": [
    "def is_one_away(s1, s2):\n",
    "    if len(s1) - len(s2) >=2 or len(s2) - len(s1) >= 2:\n",
    "        return False\n",
    "    elif len(s1) == len(s2):\n",
    "        return is_one_away_same_length(s1, s2)\n",
    "    elif len(s1) > len(s2):\n",
    "        return is_one_away_different_length(s1, s2)\n",
    "    else:\n",
    "        return is_one_away_different_length(s2, s1)\n",
    "    \n",
    "def is_one_away_same_length(s1, s2):\n",
    "    count_diff = 0\n",
    "    for i in range(len(s1)):\n",
    "        if not s1[i] == s2[i]:\n",
    "            count_diff += 1\n",
    "            if count_diff > 1:\n",
    "                return False\n",
    "    return True\n",
    "\n",
    "def is_one_away_different_length(s1, s2):\n",
    "    i = 0\n",
    "    count_diff = 0\n",
    "    while i < len(s2):\n",
    "        if s1[i+count_diff] == s2[i]:\n",
    "            i += 1\n",
    "        else:\n",
    "            count_diff += 1\n",
    "            if count_diff > 1:\n",
    "                return False\n",
    "    return True\n",
    "\n",
    "# NOTE: The following input values will be used for testing your solution.\n",
    "print(is_one_away(\"abcde\", \"abcd\"))  # should return True\n",
    "print(is_one_away(\"abde\", \"abcde\"))# should return True\n",
    "print(is_one_away(\"a\", \"a\"))  # should return True\n",
    "print(is_one_away(\"abcdef\", \"abqdef\"))  # should return True\n",
    "print(is_one_away(\"abcdef\", \"abccef\"))  # should return True\n",
    "is_one_away(\"abcdef\", \"abcde\")  # should return True\n",
    "is_one_away(\"aaa\", \"abc\")  # should return False\n",
    "is_one_away(\"abcde\", \"abc\")  # should return False\n",
    "is_one_away(\"abc\", \"abcde\")  # should return False\n",
    "is_one_away(\"abc\", \"bcc\")  # should return False\n"
   ]
  },
  {
   "cell_type": "code",
   "execution_count": null,
   "metadata": {},
   "outputs": [],
   "source": []
  }
 ],
 "metadata": {
  "kernelspec": {
   "display_name": "Python 3",
   "language": "python",
   "name": "python3"
  },
  "language_info": {
   "codemirror_mode": {
    "name": "ipython",
    "version": 3
   },
   "file_extension": ".py",
   "mimetype": "text/x-python",
   "name": "python",
   "nbconvert_exporter": "python",
   "pygments_lexer": "ipython3",
   "version": "3.7.4"
  }
 },
 "nbformat": 4,
 "nbformat_minor": 2
}
