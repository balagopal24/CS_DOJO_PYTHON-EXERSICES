{
 "cells": [
  {
   "cell_type": "code",
   "execution_count": 3,
   "metadata": {},
   "outputs": [],
   "source": [
    "def most_frequent(given_array):\n",
    "    max_count = -1\n",
    "    max_item = None\n",
    "    count = {}\n",
    "    for item in given_array:\n",
    "        if item not in count:\n",
    "            count[item] = 1\n",
    "        else:\n",
    "            count[item] += 1\n",
    "        if count[item] > max_count:\n",
    "            max_count = count[item]\n",
    "            max_item = item\n",
    "    return max_item\n"
   ]
  },
  {
   "cell_type": "code",
   "execution_count": 5,
   "metadata": {},
   "outputs": [
    {
     "name": "stdout",
     "output_type": "stream",
     "text": [
      "1\n",
      "3\n",
      "None\n",
      "0\n",
      "-1\n"
     ]
    }
   ],
   "source": [
    "list_1 = [1,3,1,3,2,1]\n",
    "\n",
    "list_2 = [3,3,1,2,3,1]\n",
    "\n",
    "list_3 = []\n",
    "\n",
    "list_4 = [0]\n",
    "list_5 = [0,-110,-1,10,-1,-1,-1,1]\n",
    "\n",
    "print(most_frequent(list_1))\n",
    "print(most_frequent(list_2))\n",
    "print(most_frequent(list_3))\n",
    "print(most_frequent(list_4))\n",
    "print(most_frequent(list_5))"
   ]
  },
  {
   "cell_type": "code",
   "execution_count": null,
   "metadata": {},
   "outputs": [],
   "source": []
  }
 ],
 "metadata": {
  "kernelspec": {
   "display_name": "Python 3",
   "language": "python",
   "name": "python3"
  },
  "language_info": {
   "codemirror_mode": {
    "name": "ipython",
    "version": 3
   },
   "file_extension": ".py",
   "mimetype": "text/x-python",
   "name": "python",
   "nbconvert_exporter": "python",
   "pygments_lexer": "ipython3",
   "version": "3.7.4"
  }
 },
 "nbformat": 4,
 "nbformat_minor": 2
}
