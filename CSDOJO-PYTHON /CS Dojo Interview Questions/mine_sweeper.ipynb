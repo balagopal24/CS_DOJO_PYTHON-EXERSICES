{
 "cells": [
  {
   "cell_type": "code",
   "execution_count": 7,
   "metadata": {},
   "outputs": [],
   "source": [
    "def mine_sweeper(bombs, num_rows, num_cols):\n",
    "    field = [[0 for i in range(num_cols)] for j in range(num_rows)]\n",
    "    for bomb in bombs:\n",
    "        (row_i, col_i) = bomb\n",
    "        field[row_i][col_i] = -1\n",
    "        for i in range(row_i-1, row_i+2):\n",
    "            for j in range(col_i-1, col_i+2):\n",
    "                if (0 <= i < num_rows and 0 <= j < num_cols and field[i][j] != -1):\n",
    "                    field[i][j] += 1\n",
    "    return field\n",
    "\n",
    "def to_string(given_array):\n",
    "    list_rows = []\n",
    "    for row in given_array:\n",
    "        list_rows.append(str(row))\n",
    "    return '[' + ',\\n'.json(list_rows) + ']'\n",
    "\n"
   ]
  },
  {
   "cell_type": "code",
   "execution_count": 8,
   "metadata": {},
   "outputs": [
    {
     "name": "stdout",
     "output_type": "stream",
     "text": [
      "[[1, 2, 2, 1, 0], [1, -1, -1, 2, 0], [1, 3, -1, 2, 0], [0, 1, 2, 2, 1], [0, 0, 1, -1, 1]]\n"
     ]
    }
   ],
   "source": [
    "print(mine_sweeper([[1, 1], [1, 2], [2, 2], [4, 3]], 5, 5))"
   ]
  },
  {
   "cell_type": "code",
   "execution_count": null,
   "metadata": {},
   "outputs": [],
   "source": []
  }
 ],
 "metadata": {
  "kernelspec": {
   "display_name": "Python 3",
   "language": "python",
   "name": "python3"
  },
  "language_info": {
   "codemirror_mode": {
    "name": "ipython",
    "version": 3
   },
   "file_extension": ".py",
   "mimetype": "text/x-python",
   "name": "python",
   "nbconvert_exporter": "python",
   "pygments_lexer": "ipython3",
   "version": "3.7.4"
  }
 },
 "nbformat": 4,
 "nbformat_minor": 2
}
