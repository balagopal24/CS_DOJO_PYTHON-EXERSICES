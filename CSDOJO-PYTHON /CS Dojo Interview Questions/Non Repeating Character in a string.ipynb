{
 "cells": [
  {
   "cell_type": "code",
   "execution_count": 2,
   "metadata": {},
   "outputs": [
    {
     "name": "stdout",
     "output_type": "stream",
     "text": [
      "c\n",
      "None\n",
      "c\n",
      "d\n"
     ]
    }
   ],
   "source": [
    "def non_repeating(given_string):\n",
    "    char_count = {}\n",
    "    for c in given_string:\n",
    "        if c in char_count:\n",
    "            char_count[c] += 1\n",
    "        else:\n",
    "            char_count[c] = 1\n",
    "    for c in given_string:\n",
    "        if char_count[c] == 1:\n",
    "            return c\n",
    "    return None\n",
    "\n",
    "\n",
    "# NOTE: The following input values will be used for testing your solution.\n",
    "print(non_repeating(\"abcab\")) # should return 'c'\n",
    "print(non_repeating(\"abab\")) # should return None\n",
    "print(non_repeating(\"aabbbc\")) # should return 'c'\n",
    "print(non_repeating(\"aabbdbc\")) # should return 'd'\n"
   ]
  },
  {
   "cell_type": "code",
   "execution_count": null,
   "metadata": {},
   "outputs": [],
   "source": []
  }
 ],
 "metadata": {
  "kernelspec": {
   "display_name": "Python 3",
   "language": "python",
   "name": "python3"
  },
  "language_info": {
   "codemirror_mode": {
    "name": "ipython",
    "version": 3
   },
   "file_extension": ".py",
   "mimetype": "text/x-python",
   "name": "python",
   "nbconvert_exporter": "python",
   "pygments_lexer": "ipython3",
   "version": "3.7.4"
  }
 },
 "nbformat": 4,
 "nbformat_minor": 2
}
