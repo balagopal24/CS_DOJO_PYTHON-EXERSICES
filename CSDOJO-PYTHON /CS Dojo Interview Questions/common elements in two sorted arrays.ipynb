{
 "cells": [
  {
   "cell_type": "code",
   "execution_count": 10,
   "metadata": {},
   "outputs": [],
   "source": [
    "def common_elements(A,B):\n",
    "    p1 = 0\n",
    "    p2 = 0\n",
    "    result = [] \n",
    "    while p1 < len(A) and p2 < len(B):\n",
    "        if A[p1] == B[p2]:\n",
    "            result.append(A[p1])\n",
    "            p1 += 1\n",
    "            p2 += 1\n",
    "            \n",
    "        elif A[p1] > B[p2]:\n",
    "            p2 += 1\n",
    "        else:\n",
    "            p1 += 1\n",
    "    return result\n",
    "    "
   ]
  },
  {
   "cell_type": "code",
   "execution_count": 11,
   "metadata": {},
   "outputs": [
    {
     "name": "stdout",
     "output_type": "stream",
     "text": [
      "[1, 4, 9]\n"
     ]
    }
   ],
   "source": [
    "# NOTE: The following input values will be used for testing your solution.\n",
    "list_a1 = [1, 3, 4, 6, 7, 9]\n",
    "list_a2 = [1, 2, 4, 5, 9, 10]\n",
    "# common_elements(list_a1, list_a2) should return [1, 4, 9] (a list).\n",
    "\n",
    "list_b1 = [1, 2, 9, 10, 11, 12]\n",
    "list_b2 = [0, 1, 2, 3, 4, 5, 8, 9, 10, 12, 14, 15]\n",
    "# common_elements(list_b1, list_b2) should return [1, 2, 9, 10, 12] (a list).\n",
    "\n",
    "list_c1 = [0, 1, 2, 3, 4, 5]\n",
    "list_c2 = [6, 7, 8, 9, 10, 11]\n",
    "# common_elements(list_b1, list_b2) should return [] (an empty list).\n",
    "\n",
    "print(common_elements(list_a1, list_a2))\n",
    "print()"
   ]
  },
  {
   "cell_type": "code",
   "execution_count": null,
   "metadata": {},
   "outputs": [],
   "source": []
  }
 ],
 "metadata": {
  "kernelspec": {
   "display_name": "Python 3",
   "language": "python",
   "name": "python3"
  },
  "language_info": {
   "codemirror_mode": {
    "name": "ipython",
    "version": 3
   },
   "file_extension": ".py",
   "mimetype": "text/x-python",
   "name": "python",
   "nbconvert_exporter": "python",
   "pygments_lexer": "ipython3",
   "version": "3.7.4"
  }
 },
 "nbformat": 4,
 "nbformat_minor": 2
}
