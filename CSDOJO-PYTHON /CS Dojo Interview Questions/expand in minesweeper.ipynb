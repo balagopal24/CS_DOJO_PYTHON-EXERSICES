{
 "cells": [
  {
   "cell_type": "code",
   "execution_count": 3,
   "metadata": {},
   "outputs": [
    {
     "name": "stdout",
     "output_type": "stream",
     "text": [
      "[[0, 0, 0, 0, 0], [0, 1, 1, 1, 0], [0, 1, -1, 1, 0]]\n"
     ]
    }
   ],
   "source": [
    "def click( field, num_rows, num_cols, given_i, given_j):\n",
    "    import queue\n",
    "    to_check = queue.Queue()\n",
    "    if field[given_i][given_j] == 0:\n",
    "        field[given_i][given_j] == -2\n",
    "        to_check.put((given_i, given_j))\n",
    "    else:\n",
    "        return field\n",
    "    while not to_check.empty():\n",
    "        (current_i, current_j) = to_check.get()\n",
    "        for i in range(current_i - 1, current_i + 2):\n",
    "            for j in range(current_j - 1, current_j + 2):\n",
    "                if (0 <= i < num_rows and 0 <= j < num_cols and field[i][j] == 0):\n",
    "                    field[i][j] = -2\n",
    "                    to_check.put(i,j)\n",
    "    return field\n",
    "\n",
    "def to_string(given_array):\n",
    "    list_rows = []\n",
    "    for row in given_array:\n",
    "        list_rows.append(str(row))\n",
    "    return '[' + ',\\n '.join(list_rows) + ']'\n",
    "\n",
    "# NOTE: The following input values will be used for testing your solution.\n",
    "print(click(field1, 5, 5, 2, 2))"
   ]
  },
  {
   "cell_type": "code",
   "execution_count": null,
   "metadata": {},
   "outputs": [],
   "source": []
  }
 ],
 "metadata": {
  "kernelspec": {
   "display_name": "Python 3",
   "language": "python",
   "name": "python3"
  },
  "language_info": {
   "codemirror_mode": {
    "name": "ipython",
    "version": 3
   },
   "file_extension": ".py",
   "mimetype": "text/x-python",
   "name": "python",
   "nbconvert_exporter": "python",
   "pygments_lexer": "ipython3",
   "version": "3.7.4"
  }
 },
 "nbformat": 4,
 "nbformat_minor": 2
}
