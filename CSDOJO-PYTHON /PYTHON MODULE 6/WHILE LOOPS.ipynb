{
 "cells": [
  {
   "cell_type": "code",
   "execution_count": 1,
   "metadata": {},
   "outputs": [
    {
     "name": "stdout",
     "output_type": "stream",
     "text": [
      "10\n"
     ]
    }
   ],
   "source": [
    "# while loops\n",
    "total = 0\n",
    "j = 1\n",
    "while j < 5:\n",
    "    total += j\n",
    "    j += 1\n",
    "print(total)"
   ]
  },
  {
   "cell_type": "code",
   "execution_count": 5,
   "metadata": {},
   "outputs": [
    {
     "name": "stdout",
     "output_type": "stream",
     "text": [
      "17\n"
     ]
    }
   ],
   "source": [
    "#why to use loops when it can be done with range coz when we dont know the how many loops we are going to need\n",
    "#Given list:-sorted and in descending order\n",
    "#Q:- find sum of positive numbers\n",
    "\n",
    "given_list = [5,4,4,3,1,-2,-3,-5]\n",
    "total_2 = 0\n",
    "i = 0\n",
    "while given_list[i] >= 0:\n",
    "    total_2 += given_list[i]\n",
    "    i += 1\n",
    "print(total_2)"
   ]
  },
  {
   "cell_type": "code",
   "execution_count": 6,
   "metadata": {},
   "outputs": [
    {
     "name": "stdout",
     "output_type": "stream",
     "text": [
      "17\n"
     ]
    }
   ],
   "source": [
    "#index error coz of out index\n",
    "#we need to define the length\n",
    "\n",
    "given_list = [5,4,4,3,1]\n",
    "total_2 = 0\n",
    "i = 0\n",
    "while i < len(given_list) and given_list[i] > 0:\n",
    "    total_2 += given_list[i]\n",
    "    i += 1\n",
    "print(total_2)"
   ]
  },
  {
   "cell_type": "code",
   "execution_count": 7,
   "metadata": {},
   "outputs": [
    {
     "name": "stdout",
     "output_type": "stream",
     "text": [
      "7\n"
     ]
    }
   ],
   "source": [
    "#here len(given_list)= 5\n",
    "#using a for loop\n",
    "\n",
    "given_list = [5,4,4,3,1,-2,-3,-5]\n",
    "total_3 = 0\n",
    "for element in given_list:\n",
    "    total_3 += element\n",
    "print(total_3)"
   ]
  },
  {
   "cell_type": "code",
   "execution_count": 9,
   "metadata": {},
   "outputs": [
    {
     "name": "stdout",
     "output_type": "stream",
     "text": [
      "17\n"
     ]
    }
   ],
   "source": [
    "# we want only positive numbers\n",
    "\n",
    "given_list = [5,4,4,3,1,-2,-3,-5]\n",
    "total_3 = 0 \n",
    "for element in given_list:\n",
    "    if element <=0:\n",
    "        break\n",
    "    total_3 += element\n",
    "print(total_3)"
   ]
  },
  {
   "cell_type": "code",
   "execution_count": 10,
   "metadata": {},
   "outputs": [
    {
     "name": "stdout",
     "output_type": "stream",
     "text": [
      "17\n"
     ]
    }
   ],
   "source": [
    "# using a while loop\n",
    "# assuming atleast 1 negative number is present\n",
    "\n",
    "given_list = [5,4,4,3,1,-2,-3,-5]\n",
    "total_4 = 0 \n",
    "i = 0\n",
    "while True:\n",
    "    total_4 += given_list[i]\n",
    "    i += 1\n",
    "    if given_list[i] <= 0:\n",
    "        break\n",
    "print(total_4)"
   ]
  },
  {
   "cell_type": "code",
   "execution_count": 11,
   "metadata": {},
   "outputs": [],
   "source": [
    "# thing to remeber we dont need any index for 'for' loop i.e. for element in given_list:\n",
    "# but for while loop we need an index i.e while given_list[i] > 0"
   ]
  },
  {
   "cell_type": "code",
   "execution_count": 12,
   "metadata": {},
   "outputs": [
    {
     "name": "stdout",
     "output_type": "stream",
     "text": [
      "-11\n"
     ]
    }
   ],
   "source": [
    "# we dont know contents but list is in descending order\n",
    "#find sum of all negative numbers using while and for loop\n",
    "#1)using for loop\n",
    "\n",
    "given_list = [5,4,4,3,-1,-2,-3,-5]\n",
    "total = 0\n",
    "for element in given_list:\n",
    "    if element <= 0:\n",
    "        total += element\n",
    "print(total)"
   ]
  },
  {
   "cell_type": "code",
   "execution_count": 13,
   "metadata": {},
   "outputs": [
    {
     "name": "stdout",
     "output_type": "stream",
     "text": [
      "-21\n"
     ]
    }
   ],
   "source": [
    "#2)using while loop\n",
    "\n",
    "given_list = [5,5,3,-3,-5,-6,-7]\n",
    "i = 0\n",
    "final = 0\n",
    "while i < len(given_list):\n",
    "    if given_list[i] < 0:\n",
    "        final += given_list[i]\n",
    "    i += 1\n",
    "print(final)\n"
   ]
  },
  {
   "cell_type": "code",
   "execution_count": null,
   "metadata": {},
   "outputs": [],
   "source": []
  }
 ],
 "metadata": {
  "kernelspec": {
   "display_name": "Python 3",
   "language": "python",
   "name": "python3"
  },
  "language_info": {
   "codemirror_mode": {
    "name": "ipython",
    "version": 3
   },
   "file_extension": ".py",
   "mimetype": "text/x-python",
   "name": "python",
   "nbconvert_exporter": "python",
   "pygments_lexer": "ipython3",
   "version": "3.7.4"
  }
 },
 "nbformat": 4,
 "nbformat_minor": 2
}
