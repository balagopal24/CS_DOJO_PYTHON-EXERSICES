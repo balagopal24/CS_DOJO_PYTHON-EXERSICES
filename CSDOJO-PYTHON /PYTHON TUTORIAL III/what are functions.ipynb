{
 "cells": [
  {
   "cell_type": "code",
   "execution_count": 1,
   "metadata": {},
   "outputs": [
    {
     "name": "stdout",
     "output_type": "stream",
     "text": [
      "This is outside the function\n",
      "Will always run as it is outside the function\n"
     ]
    }
   ],
   "source": [
    "def function1():\n",
    "    print(\"This is inside the function\")\n",
    "    print(\"Will only run when the function is called\")\n",
    "print(\"This is outside the function\")\n",
    "print(\"Will always run as it is outside the function\")"
   ]
  },
  {
   "cell_type": "code",
   "execution_count": 2,
   "metadata": {},
   "outputs": [
    {
     "name": "stdout",
     "output_type": "stream",
     "text": [
      "This is inside the function\n",
      "Will only run when the function is called\n"
     ]
    }
   ],
   "source": [
    "function1()"
   ]
  },
  {
   "cell_type": "code",
   "execution_count": 3,
   "metadata": {},
   "outputs": [],
   "source": [
    "def function2(x):\n",
    "    return 2*x"
   ]
  },
  {
   "cell_type": "code",
   "execution_count": 4,
   "metadata": {},
   "outputs": [],
   "source": [
    "a = function2(3)"
   ]
  },
  {
   "cell_type": "code",
   "execution_count": 5,
   "metadata": {},
   "outputs": [
    {
     "data": {
      "text/plain": [
       "6"
      ]
     },
     "execution_count": 5,
     "metadata": {},
     "output_type": "execute_result"
    }
   ],
   "source": [
    "a"
   ]
  },
  {
   "cell_type": "code",
   "execution_count": 7,
   "metadata": {},
   "outputs": [],
   "source": [
    "def function3(x,y):\n",
    "    return x+y"
   ]
  },
  {
   "cell_type": "code",
   "execution_count": 8,
   "metadata": {},
   "outputs": [
    {
     "name": "stdout",
     "output_type": "stream",
     "text": [
      "10\n"
     ]
    }
   ],
   "source": [
    "e = function3(3,7)\n",
    "print(e)"
   ]
  },
  {
   "cell_type": "code",
   "execution_count": 9,
   "metadata": {},
   "outputs": [],
   "source": [
    "def function4(x):\n",
    "    print(x)\n",
    "    print(\"still in this format\")\n",
    "    return 3*x"
   ]
  },
  {
   "cell_type": "code",
   "execution_count": 10,
   "metadata": {},
   "outputs": [
    {
     "name": "stdout",
     "output_type": "stream",
     "text": [
      "4\n",
      "still in this format\n"
     ]
    }
   ],
   "source": [
    "f = function4(4)"
   ]
  },
  {
   "cell_type": "code",
   "execution_count": 11,
   "metadata": {},
   "outputs": [
    {
     "name": "stdout",
     "output_type": "stream",
     "text": [
      "12\n"
     ]
    }
   ],
   "source": [
    "print(f)"
   ]
  },
  {
   "cell_type": "code",
   "execution_count": 12,
   "metadata": {},
   "outputs": [],
   "source": [
    "def function5(some_arguement):\n",
    "    print(some_arguement)\n",
    "    print(\"hiii\")"
   ]
  },
  {
   "cell_type": "code",
   "execution_count": 13,
   "metadata": {},
   "outputs": [
    {
     "name": "stdout",
     "output_type": "stream",
     "text": [
      "4\n",
      "hiii\n"
     ]
    }
   ],
   "source": [
    "function5(4)"
   ]
  },
  {
   "cell_type": "code",
   "execution_count": 14,
   "metadata": {},
   "outputs": [],
   "source": [
    "def function6(x):\n",
    "    print(x)\n",
    "    print(\"still in this function\")\n",
    "    x = x + 3\n",
    "    return 3*x"
   ]
  },
  {
   "cell_type": "code",
   "execution_count": 15,
   "metadata": {},
   "outputs": [
    {
     "name": "stdout",
     "output_type": "stream",
     "text": [
      "4\n",
      "still in this function\n",
      "21\n"
     ]
    }
   ],
   "source": [
    "g = function6(4)\n",
    "print(g)"
   ]
  },
  {
   "cell_type": "code",
   "execution_count": 16,
   "metadata": {},
   "outputs": [],
   "source": [
    "def function7(x):\n",
    "    print(x)\n",
    "    print(\"still in this function\")\n",
    "    x = x+3\n",
    "    return 3*x"
   ]
  },
  {
   "cell_type": "code",
   "execution_count": 19,
   "metadata": {},
   "outputs": [
    {
     "name": "stdout",
     "output_type": "stream",
     "text": [
      "4\n",
      "still in this function\n",
      "still in this function\n",
      "21\n"
     ]
    }
   ],
   "source": [
    "x = 4\n",
    "h = function7(x)\n",
    "print(\"still in this function\")\n",
    "print(h)"
   ]
  },
  {
   "cell_type": "code",
   "execution_count": 23,
   "metadata": {},
   "outputs": [
    {
     "name": "stdout",
     "output_type": "stream",
     "text": [
      "bmi is: \n",
      "23.80540166204986\n",
      "bmi is: \n",
      "25.10387811634349\n",
      "yakub is not overweight\n",
      "matar is overweight\n"
     ]
    }
   ],
   "source": [
    "# BMI Calculator\n",
    "\n",
    "name1 = \"yakub\"\n",
    "weight_kg3 = 55\n",
    "height_m3 = 1.52\n",
    "\n",
    "name2 = \"matar\"\n",
    "weight4  = 58\n",
    "height4 = 1.52\n",
    "\n",
    "def bmi_calculator(name, weight_kg, height_m):\n",
    "    bmi = weight_kg / (height_m ** 2)\n",
    "    print(\"bmi is: \")\n",
    "    print(bmi)\n",
    "    if bmi < 25:\n",
    "        return name + \" is not overweight\"\n",
    "    else:\n",
    "        return name + \" is overweight\"\n",
    "    \n",
    "result1 = bmi_calculator(name1, weight_kg3, height_m3)\n",
    "result2 = bmi_calculator(name2, weight4, height4)\n",
    "print(result1)\n",
    "print(result2)"
   ]
  },
  {
   "cell_type": "code",
   "execution_count": 24,
   "metadata": {},
   "outputs": [],
   "source": [
    "def convert(mile):\n",
    "    km = mile*1.60934\n",
    "    print(mile)\n",
    "    print(\"miles is equal to\")\n",
    "    return km"
   ]
  },
  {
   "cell_type": "code",
   "execution_count": 25,
   "metadata": {},
   "outputs": [
    {
     "name": "stdout",
     "output_type": "stream",
     "text": [
      "4\n",
      "miles is equal to\n",
      "6.43736\n"
     ]
    }
   ],
   "source": [
    "print(convert(4))"
   ]
  },
  {
   "cell_type": "code",
   "execution_count": 26,
   "metadata": {},
   "outputs": [],
   "source": [
    "def converts(mile):\n",
    "    km = mile*1.60934\n",
    "    print(mile)\n",
    "    print(\"miles is equal to\")\n",
    "    return km, 'kms'"
   ]
  },
  {
   "cell_type": "code",
   "execution_count": 27,
   "metadata": {},
   "outputs": [
    {
     "name": "stdout",
     "output_type": "stream",
     "text": [
      "10\n",
      "miles is equal to\n",
      "(16.0934, 'kms')\n"
     ]
    }
   ],
   "source": [
    "print(converts(10))"
   ]
  },
  {
   "cell_type": "code",
   "execution_count": 28,
   "metadata": {},
   "outputs": [
    {
     "name": "stdout",
     "output_type": "stream",
     "text": [
      "90\n",
      "miles is equal to\n",
      "144.8406\n"
     ]
    }
   ],
   "source": [
    "print(convert(90))"
   ]
  },
  {
   "cell_type": "code",
   "execution_count": 35,
   "metadata": {},
   "outputs": [],
   "source": [
    "# example for calculating cost of petrol\n",
    "\n",
    "def petrol_pump(petrol):\n",
    "    rupees = petrol*80.79\n",
    "    print(\"for\", petrol, 'liter petrol pay', rupees, \"rupees\")\n",
    "    return rupees"
   ]
  },
  {
   "cell_type": "code",
   "execution_count": 37,
   "metadata": {},
   "outputs": [
    {
     "name": "stdout",
     "output_type": "stream",
     "text": [
      "for 5 liter petrol pay 403.95000000000005 rupees\n"
     ]
    }
   ],
   "source": [
    "a = petrol_pump(5)"
   ]
  },
  {
   "cell_type": "code",
   "execution_count": 40,
   "metadata": {},
   "outputs": [
    {
     "name": "stdout",
     "output_type": "stream",
     "text": [
      "for  1  litres of petrol pay 80.79\n",
      "for  2  litres of petrol pay 161.58\n",
      "for  3  litres of petrol pay 242.37\n",
      "for  4  litres of petrol pay 323.16\n",
      "for  5  litres of petrol pay 403.95000000000005\n",
      "for  6  litres of petrol pay 484.74\n",
      "for  7  litres of petrol pay 565.5300000000001\n",
      "for  8  litres of petrol pay 646.32\n",
      "for  9  litres of petrol pay 727.11\n",
      "for  10  litres of petrol pay 807.9000000000001\n",
      "final total amount 807.9000000000001 rs\n"
     ]
    }
   ],
   "source": [
    "# Sum of 10 numbers\n",
    "total = 0\n",
    "for petrol in range(1, 11):\n",
    "    rupees = petrol*80.79\n",
    "    print(\"for \",  petrol, \" litres of petrol pay\", rupees)\n",
    "total = total + rupees\n",
    "print(\"final total amount\", total, \"rs\")"
   ]
  },
  {
   "cell_type": "code",
   "execution_count": 42,
   "metadata": {},
   "outputs": [
    {
     "name": "stdout",
     "output_type": "stream",
     "text": [
      "for 1 litre pay 81 rs\n",
      "for 2 litre pay 162 rs\n",
      "for 3 litre pay 242 rs\n",
      "for 4 litre pay 323 rs\n",
      "for 5 litre pay 404 rs\n",
      "for 6 litre pay 485 rs\n",
      "for 7 litre pay 566 rs\n",
      "for 8 litre pay 646 rs\n",
      "for 9 litre pay 727 rs\n",
      "for 10 litre pay 808 rs\n",
      "final total amount is:  808 rs\n"
     ]
    }
   ],
   "source": [
    "# Round Off\n",
    "total = 0\n",
    "for petrol in range(1,11):\n",
    "    rupees = petrol*80.79\n",
    "    print(\"for\", petrol, \"litre pay\", round(rupees), \"rs\")\n",
    "total = total +rupees\n",
    "print(\"final total amount is: \", round(total), \"rs\")"
   ]
  },
  {
   "cell_type": "code",
   "execution_count": null,
   "metadata": {},
   "outputs": [],
   "source": []
  }
 ],
 "metadata": {
  "kernelspec": {
   "display_name": "Python 3",
   "language": "python",
   "name": "python3"
  },
  "language_info": {
   "codemirror_mode": {
    "name": "ipython",
    "version": 3
   },
   "file_extension": ".py",
   "mimetype": "text/x-python",
   "name": "python",
   "nbconvert_exporter": "python",
   "pygments_lexer": "ipython3",
   "version": "3.7.4"
  }
 },
 "nbformat": 4,
 "nbformat_minor": 2
}
